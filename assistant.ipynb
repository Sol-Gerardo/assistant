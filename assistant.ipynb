{
 "cells": [
  {
   "metadata": {
    "ExecuteTime": {
     "end_time": "2024-06-23T21:20:24.536746Z",
     "start_time": "2024-06-23T21:20:22.562775Z"
    }
   },
   "cell_type": "code",
   "source": [
    "from dotenv import load_dotenv\n",
    "import os\n",
    "from openai import OpenAI\n",
    "from IPython.display import Markdown, display\n",
    "\n",
    "def convo_hist_md(filename, convo, mode='w'):\n",
    "    with open(filename, mode) as file:\n",
    "        for line in convo:\n",
    "            file.write(line + \"\\n\\n---\\n\\n\")\n",
    "\n",
    "# Load environment variables from the .env file\n",
    "load_dotenv()\n",
    "\n",
    "client = OpenAI(\n",
    "    # This is the default and can be omitted\n",
    "    api_key=os.getenv(\"OPENAI_API_KEY\"),\n",
    ")\n",
    "\n",
    "MODEL=\"gpt-4o\"\n",
    "\n",
    "user_messages=[\n",
    "    {\"role\": \"system\", \"content\": \"You are a helpful assistant help me with my project.\"},\n",
    "    {\"role\": \"user\",\"content\": \"Can you write a hello world program in python please.\" }\n",
    "]\n",
    "\n",
    "convo_hist = [user_messages[1][\"content\"]]\n",
    "filename=\"convo_hist.md\"\n",
    "\n",
    "assistant = client.chat.completions.create(    \n",
    "    model=MODEL,\n",
    "    messages=user_messages\n",
    ")\n",
    "\n",
    "response = assistant.choices[0].message.content\n",
    "\n",
    "# Extract the assistant's reply from the response\n",
    "# print(display(Markdown(response)))\n",
    "\n",
    "convo_hist.append(response)\n",
    "\n",
    "if os.path.exists(filename):\n",
    "    convo_hist_md(filename, convo_hist, mode='a')\n",
    "else:\n",
    "    convo_hist_md(filename, convo_hist, mode='w')"
   ],
   "id": "262faf79caf4a1d5",
   "outputs": [],
   "execution_count": 65
  },
  {
   "metadata": {},
   "cell_type": "code",
   "outputs": [],
   "execution_count": null,
   "source": "",
   "id": "f750f41b21c80bcb"
  }
 ],
 "metadata": {
  "kernelspec": {
   "display_name": "Python 3",
   "language": "python",
   "name": "python3"
  },
  "language_info": {
   "codemirror_mode": {
    "name": "ipython",
    "version": 2
   },
   "file_extension": ".py",
   "mimetype": "text/x-python",
   "name": "python",
   "nbconvert_exporter": "python",
   "pygments_lexer": "ipython2",
   "version": "2.7.6"
  }
 },
 "nbformat": 4,
 "nbformat_minor": 5
}
